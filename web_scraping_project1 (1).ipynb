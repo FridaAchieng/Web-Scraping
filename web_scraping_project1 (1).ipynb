{
  "cells": [
    {
      "cell_type": "markdown",
      "metadata": {
        "id": "ZvduEy-bvou7"
      },
      "source": [
        "# Scraping Medical Research Topics on TED Talks"
      ]
    },
    {
      "cell_type": "markdown",
      "metadata": {
        "id": "o9NILjDbvovG"
      },
      "source": [
        "## About Web Scraping\n",
        "\n",
        "\n",
        "Data analysts analyze and report insights gleaned from data. Ever wondered how these data is collected? That's where knowledge of web scraping comes in handy.\n",
        "\n",
        "### What is web scraping?\n",
        "\n",
        "Web scraping is a technique used to extract content and data from websites.The data extracted is stored in databases and retrieved later to perform analysis and communicate insights.\n",
        "\n",
        "*“Data are just summaries of thousands of stories.”* **– By Chip & Dan Heath**\n",
        "\n",
        "Given that large amounts of data is extracted, web scraping automates tasks that might otherwise take humans far longer, or even be impossible to complete on a timely basis.\n",
        "\n",
        "How does web scraping work?\n",
        "\n",
        "Hypertext Markup Language(HTML) is used to give structure to websites. A mark-up language is universal meaning scrapers can easily pinpoint specific elements within them and extract content.\n",
        "\n",
        "A general process of web scraping follows these steps:\n",
        "\n",
        "- Identifying a site to scrape.\n",
        "- Use `Request` to fetch the HTML code.\n",
        "- Locate HTML elements using Beautiful Soup.\n",
        "- Use Pandas to create CSV  files.\n",
        "\n"
      ]
    },
    {
      "cell_type": "markdown",
      "metadata": {
        "id": "tZUPQw06vovG"
      },
      "source": [
        "## About TED Talks:\n",
        "\n",
        "TED Conferences LLC(Technology, Entertainment, Design) is an American media organization that posts talks online for free distribution under the slogan \"ideas worth spreading\".TED's early emphasis was on technology and design, consistent with its Silicon Valley origins. It has since broadened its perspective to include talks on many scientific, cultural, political, humanitarian and academic topics.\n",
        "\n",
        "In this project, we are going to scrape inspirational medical research topic presented on Ted Talks.\n",
        "\n",
        "\n",
        "![Title](https://i.ibb.co/PDPrnVW/ashraful-islam-p-Rt3-JVYl-Jho-unsplash.jpg)\n",
        "\n",
        "\n",
        "Photo by <a href=\"https://unsplash.com/@ashraful25?utm_content=creditCopyText&utm_medium=referral&utm_source=unsplash\">Ashraful Islam</a> on <a href=\"https://unsplash.com/photos/a-double-strand-of-blue-and-white-spirals-pRt3JVYlJho?utm_content=creditCopyText&utm_medium=referral&utm_source=unsplash\">Unsplash</a>\n",
        "      "
      ]
    },
    {
      "cell_type": "markdown",
      "metadata": {
        "id": "cgn7_VjQvovH"
      },
      "source": [
        "## Website of Interest and Objectives\n",
        "\n",
        "Our website of interest is https://www.ted.com/talks?page=1&sort=popular&topics%5B%5D=medical+research\n",
        "\n",
        "As earlier mentioned, this site contains talks. From the talks posted we want to extract the following information.\n",
        "- Title of the talk\n",
        "- The speaker\n",
        "- Talk URL\n",
        "- Duration of the talk\n",
        "- Talk views\n",
        "\n"
      ]
    },
    {
      "cell_type": "markdown",
      "metadata": {
        "id": "gifBQUN7vovH"
      },
      "source": [
        "## Web Scraping Toolbox\n",
        "\n",
        "Before we proceed to the next step, let's learn a little bit about the tools that we will use for web scraping. We will make use of three python libraries for this project.\n",
        "\n",
        "`Requests`\n",
        "- for making various types of HTTP requests.\n",
        "\n",
        "`Beautiful Soup`\n",
        "- for pulling data out of HTML and XML files.\n",
        "\n",
        "`Pandas`\n",
        "- for storing the data in the required format."
      ]
    },
    {
      "cell_type": "markdown",
      "metadata": {
        "id": "-n2XI9XnvovI"
      },
      "source": [
        "## Download Web Pages Using `Requests`\n",
        "\n",
        "We will use the `requests` library to fetch HTML code from the website."
      ]
    },
    {
      "cell_type": "code",
      "execution_count": null,
      "metadata": {
        "id": "Lxg0EAv4vovI"
      },
      "outputs": [],
      "source": [
        "# Installing the library\n",
        "!pip install requests --upgrade --quiet"
      ]
    },
    {
      "cell_type": "code",
      "execution_count": null,
      "metadata": {
        "id": "oFzlD2USvovJ"
      },
      "outputs": [],
      "source": [
        "# import the library\n",
        "import requests"
      ]
    },
    {
      "cell_type": "code",
      "execution_count": null,
      "metadata": {
        "id": "hWdAHqugvovJ"
      },
      "outputs": [],
      "source": [
        "#variable for our website of interest\n",
        "talks_url = 'https://www.ted.com/talks?page=1&sort=popular&topics%5B%5D=medical+research'"
      ]
    },
    {
      "cell_type": "markdown",
      "metadata": {
        "id": "2kW3DpMZvovJ"
      },
      "source": [
        "We will use `requests.get` function to make a request from the webpage. A `response` object is generated once Requests gets a response back from the server."
      ]
    },
    {
      "cell_type": "code",
      "execution_count": null,
      "metadata": {
        "id": "lW-zeBg2vovK"
      },
      "outputs": [],
      "source": [
        "response = requests.get(talks_url)"
      ]
    },
    {
      "cell_type": "markdown",
      "metadata": {
        "id": "fuohXdVtvovK"
      },
      "source": [
        "We can check if our request is succesful using the `response.status_code`, the values of which is set between 200 and 299."
      ]
    },
    {
      "cell_type": "code",
      "execution_count": null,
      "metadata": {
        "id": "2Cx2Yuh0vovK",
        "outputId": "3980b5ad-151b-469d-cf39-0b5f243dfcf5"
      },
      "outputs": [
        {
          "data": {
            "text/plain": [
              "200"
            ]
          },
          "execution_count": 8,
          "metadata": {},
          "output_type": "execute_result"
        }
      ],
      "source": [
        "response.status_code"
      ]
    },
    {
      "cell_type": "markdown",
      "metadata": {
        "id": "NpJTV_7xvovK"
      },
      "source": [
        "We can access the contents of the webpage using the `.text` property of the `response`."
      ]
    },
    {
      "cell_type": "code",
      "execution_count": null,
      "metadata": {
        "id": "Lx828nuUvovK"
      },
      "outputs": [],
      "source": [
        "page_content = response.text"
      ]
    },
    {
      "cell_type": "markdown",
      "metadata": {
        "id": "wFkyoUIDvovL"
      },
      "source": [
        "Let's take a peak of the page_content."
      ]
    },
    {
      "cell_type": "code",
      "execution_count": null,
      "metadata": {
        "id": "ck_IhWyLvovL",
        "outputId": "a6c8e0f3-61f8-4b44-aed2-6fd73acd3c58"
      },
      "outputs": [
        {
          "data": {
            "text/plain": [
              "92230"
            ]
          },
          "execution_count": 10,
          "metadata": {},
          "output_type": "execute_result"
        }
      ],
      "source": [
        "len(page_content)"
      ]
    },
    {
      "cell_type": "markdown",
      "metadata": {
        "id": "PJ9KjlhBvovL"
      },
      "source": [
        "The page has 92,230 characters."
      ]
    },
    {
      "cell_type": "code",
      "execution_count": null,
      "metadata": {
        "id": "CofgivPYvovL",
        "outputId": "263e5904-3d35-47c4-f36b-f4db78c994a9"
      },
      "outputs": [
        {
          "data": {
            "text/plain": [
              "'<!DOCTYPE html>\\n<!--[if lt IE 8]> <html class=\"no-js loggedout oldie ie7\" lang=\"en\"> <![endif]-->\\n<!--[if IE 8]> <html class=\"no-js loggedout oldie ie8\" lang=\"en\"> <![endif]-->\\n<!--[if gt IE 8]><!--><html class=\\'no-js loggedout\\' lang=\\'en\\'><!--<![endif]-->\\n<head>\\n<script>\\n  (function (H){\\n  H.className=H.className.replace(/\\\\bno-js\\\\b/,\\'js\\');\\n  if ((\\'; \\'+document.cookie).match(/; _ted_user_id=/)) H.className=H.className.replace(/\\\\bloggedout\\\\b/,\\'loggedin\\');\\n  })(document.documentElement)\\n</script><meta charset=\\'utf-8\\'>\\n<title>TED Talks</title>\\n<meta name=\"description\" content=\"TED Talks are influential videos from expert speakers on education, business, science, tech and creativity, with subtitles in 100+ languages. Ideas free to stream and download.\" />\\n<meta name=\"rss-feed\" content=\"https://www.ted.com/feeds/talks.rss\" />\\n<meta name=\"keywords\" content=\"TED, Talks, Themes, Speakers, Technology, Entertainment, Design\" />\\n<link rel=\"mask-icon\" href=\"https://pa.tedcdn.com/mask-icon.svg\" colo'"
            ]
          },
          "execution_count": 11,
          "metadata": {},
          "output_type": "execute_result"
        }
      ],
      "source": [
        "page_content[:1000]"
      ]
    },
    {
      "cell_type": "markdown",
      "metadata": {
        "id": "zr6oDqj0vovL"
      },
      "source": [
        "Above is the `source code` of the webpage written in HTML."
      ]
    },
    {
      "cell_type": "markdown",
      "metadata": {
        "id": "BfjvU7wmvovM"
      },
      "source": [
        "Let's save the contents to a file with the `.html` extension."
      ]
    },
    {
      "cell_type": "code",
      "execution_count": null,
      "metadata": {
        "id": "DxjtdI2TvovM"
      },
      "outputs": [],
      "source": [
        "with open('talks.html' , 'w') as file:\n",
        "    file.write(page_content)"
      ]
    },
    {
      "cell_type": "markdown",
      "metadata": {
        "id": "A4OmgDIPvovN"
      },
      "source": [
        "## Beautiful Soup : Parse and Extract Information\n",
        "\n",
        "To use Beautiful Soup, we first need to install it"
      ]
    },
    {
      "cell_type": "code",
      "execution_count": null,
      "metadata": {
        "id": "TwpLpS_wvovN"
      },
      "outputs": [],
      "source": [
        "#Install library\n",
        "!pip install beautifulsoup4 --upgrade --quiet"
      ]
    },
    {
      "cell_type": "code",
      "execution_count": null,
      "metadata": {
        "id": "5nFSa6R-vovN"
      },
      "outputs": [],
      "source": [
        "#import library\n",
        "from bs4 import BeautifulSoup"
      ]
    },
    {
      "cell_type": "markdown",
      "metadata": {
        "id": "zvTtvac0vovN"
      },
      "source": [
        "Then, we create the Beautiful Soup object with the `page_content` as the input."
      ]
    },
    {
      "cell_type": "code",
      "execution_count": null,
      "metadata": {
        "id": "OR6xexR-vovO"
      },
      "outputs": [],
      "source": [
        "talk_doc = BeautifulSoup(page_content, 'html.parser')"
      ]
    },
    {
      "cell_type": "code",
      "execution_count": null,
      "metadata": {
        "id": "7YgNR5zkvovO",
        "outputId": "94013c06-ce31-417f-c055-b39a051a183b"
      },
      "outputs": [
        {
          "data": {
            "text/plain": [
              "bs4.BeautifulSoup"
            ]
          },
          "execution_count": 19,
          "metadata": {},
          "output_type": "execute_result"
        }
      ],
      "source": [
        "type(talk_doc)"
      ]
    },
    {
      "cell_type": "markdown",
      "metadata": {
        "id": "6zaOiH-5vovO"
      },
      "source": [
        "We have used a lot of code to prepare our web document for scraping. Let us now create a function to download the page."
      ]
    },
    {
      "cell_type": "code",
      "execution_count": null,
      "metadata": {
        "id": "uZZ7ncrnvovO"
      },
      "outputs": [],
      "source": [
        "import requests\n",
        "from bs4 import BeautifulSoup\n",
        "def get_page(talks_url):\n",
        "    #URL to scrape\n",
        "    talks_url = talks_url\n",
        "    # get HTML page using requests\n",
        "    response = requests.get(talks_url)\n",
        "    #confirm request is a success\n",
        "    if response.status_code != 200:\n",
        "        raise Exception('Failed to load page {}'.format(talks_url))\n",
        "    #create beautiful soup object\n",
        "    talk_doc = BeautifulSoup(response.text)\n",
        "    return talk_doc"
      ]
    },
    {
      "cell_type": "code",
      "execution_count": null,
      "metadata": {
        "id": "WWfKS4RvvovP",
        "outputId": "0718e684-603f-4476-8405-aac90bf510c5"
      },
      "outputs": [
        {
          "data": {
            "text/plain": [
              "bs4.BeautifulSoup"
            ]
          },
          "execution_count": 21,
          "metadata": {},
          "output_type": "execute_result"
        }
      ],
      "source": [
        "type(talk_doc)"
      ]
    },
    {
      "cell_type": "markdown",
      "metadata": {
        "id": "JkY1OzXevovP"
      },
      "source": [
        "Data is stored in HTML tags. Beautiful soup has a lot of methods of searching through these tags, https://www.crummy.com/software/BeautifulSoup/bs4/doc/#searching-the-tree. The two common ones being `find()` and `find_all()`. For our project we will use the `find_all()` method to extract information from our webpage and return lists.\n",
        "\n",
        "Let's now create some functions using the `find_all()` method."
      ]
    },
    {
      "cell_type": "markdown",
      "metadata": {
        "id": "MPTA99YQvovP"
      },
      "source": [
        "We will first need to inspect our page. Below we have an image of the webpage at the top. The HTML code which gives the page structure is at the bottom.\n",
        "\n",
        "We can get the image by right clicking on our image of interest and selecting the option inspect element.\n",
        "\n",
        "![Title](https://i.ibb.co/j8Jz9y9/Annotation-2021-05-10-140602.png)"
      ]
    },
    {
      "cell_type": "markdown",
      "metadata": {
        "id": "18mPuH13vovP"
      },
      "source": [
        "The speakers names, talk urls, talk title, the number of views and the talks duration are among the information we need to extract from the webpage.\n",
        "If you are familiar with HTML, you will notice that some of the information that we need to extract from the web page are located within a h4 tag which has different classes."
      ]
    },
    {
      "cell_type": "markdown",
      "metadata": {
        "id": "KLwk75qqvovQ"
      },
      "source": [
        "We will now create functions to extact these information."
      ]
    },
    {
      "cell_type": "code",
      "execution_count": null,
      "metadata": {
        "id": "8tH9p4UgvovQ"
      },
      "outputs": [],
      "source": [
        "#Talk titles\n",
        "def get_title(talk_doc):\n",
        "    # Initialize an empty list to store talk titles\n",
        "    title = []\n",
        "\n",
        "    # Define the class used for talk titles in <h4>\n",
        "    selection_class = ('f-w:700 h9 m5')\n",
        "\n",
        "    # Search for all <h4> tags with the specific class\n",
        "    title_tags = talk_doc.find_all('h4', {'class': selection_class})\n",
        "\n",
        "    # Loop through each <h4> tag that contain the talk title\n",
        "    for tag in title_tags:\n",
        "        # Append the stripped text (removing leading/trailing spaces) to the title list\n",
        "        title.append(tag.text.strip())\n",
        "\n",
        "    # Return the list of extracted titles\n",
        "    return title\n",
        "\n"
      ]
    },
    {
      "cell_type": "code",
      "execution_count": null,
      "metadata": {
        "id": "yo-F-1fyvovQ",
        "outputId": "6e9f5f22-05a0-42c8-d757-20b60947fafc"
      },
      "outputs": [
        {
          "data": {
            "text/plain": [
              "['Sleep is your superpower',\n",
              " \"You can grow new brain cells. Here's how\",\n",
              " 'How does anesthesia work?',\n",
              " 'Conception to birth — visualized',\n",
              " 'Is marijuana bad for your brain?',\n",
              " \"What you can do to prevent Alzheimer's\",\n",
              " \"One more reason to get a good night's sleep\",\n",
              " 'How reliable is your memory?',\n",
              " 'A promising test for pancreatic cancer ... from a teenager',\n",
              " 'What happens during a heart attack?',\n",
              " 'The surprisingly charming science of your gut',\n",
              " 'Is the obesity crisis hiding a bigger problem?',\n",
              " \"Autism — what we know (and what we don't know yet)\",\n",
              " 'What is bipolar disorder?',\n",
              " 'How your emotions change the shape of your heart',\n",
              " 'The future of psychedelic-assisted psychotherapy',\n",
              " 'What happens when you remove the hippocampus?',\n",
              " 'How CRISPR lets us edit our DNA',\n",
              " 'The brain may be able to repair itself — with help',\n",
              " 'Printing a human kidney',\n",
              " 'The power of the placebo effect',\n",
              " 'How menopause affects the brain',\n",
              " \"A doctor's case for medical marijuana\",\n",
              " \"The most groundbreaking scientist you've never heard of\",\n",
              " 'The genius of Marie Curie',\n",
              " 'What you should know about vaping and e-cigarettes',\n",
              " 'How does your body process medicine?',\n",
              " \"What doctors don't know about the drugs they prescribe\",\n",
              " 'How the pandemic will shape the near future',\n",
              " 'The next software revolution: programming biological cells',\n",
              " 'The surprising effects of pregnancy',\n",
              " \"Alzheimer's is not normal aging — and we can cure it\",\n",
              " \"How the gut microbes you're born with affect your lifelong health\",\n",
              " 'Why sleep matters now more than ever',\n",
              " 'How we could teach our bodies to heal faster',\n",
              " 'A new class of drug that could prevent depression and PTSD']"
            ]
          },
          "execution_count": 23,
          "metadata": {},
          "output_type": "execute_result"
        }
      ],
      "source": [
        "#Check if our function is working\n",
        "get_title(talk_doc)"
      ]
    },
    {
      "cell_type": "markdown",
      "metadata": {
        "id": "6Otsh-lmvovQ"
      },
      "source": [
        "Our function is working properly. Let's move to the next."
      ]
    },
    {
      "cell_type": "code",
      "execution_count": null,
      "metadata": {
        "id": "63KEP-rvvovR"
      },
      "outputs": [],
      "source": [
        "#Speakers names\n",
        "def get_speakers(talks_doc):\n",
        "    speakers= []\n",
        "    speaker_class = 'h12 talk-link__speaker'\n",
        "    speaker_tag = talks_doc.find_all('h4',{'class' : speaker_class })\n",
        "    for tag in speaker_tag:\n",
        "        speakers.append(tag.text)\n",
        "\n",
        "    return speakers"
      ]
    },
    {
      "cell_type": "code",
      "execution_count": null,
      "metadata": {
        "id": "ddNMK7CvvovR",
        "outputId": "de4da37d-6c59-40a4-8bb8-281107694017"
      },
      "outputs": [
        {
          "data": {
            "text/plain": [
              "['Matt Walker',\n",
              " 'Sandrine Thuret',\n",
              " 'Steven Zheng',\n",
              " 'Alexander Tsiaras',\n",
              " 'Anees Bahji',\n",
              " 'Lisa Genova',\n",
              " 'Jeff Iliff',\n",
              " 'Elizabeth Loftus',\n",
              " 'Jack Andraka',\n",
              " 'Krishna Sudhir',\n",
              " 'Giulia Enders',\n",
              " 'Peter Attia',\n",
              " 'Wendy Chung',\n",
              " 'Helen M. Farrell',\n",
              " 'Sandeep Jauhar',\n",
              " 'Rick Doblin',\n",
              " 'Sam Kean',\n",
              " 'Jennifer Doudna',\n",
              " 'Jocelyne Bloch',\n",
              " 'Anthony Atala',\n",
              " 'Emma Bryce',\n",
              " 'Lisa Mosconi',\n",
              " 'David Casarett',\n",
              " 'Addison Anderson',\n",
              " 'Shohini Ghose',\n",
              " 'Suchitra Krishnan-Sarin',\n",
              " 'Céline Valéry',\n",
              " 'Ben Goldacre',\n",
              " 'Bill Gates',\n",
              " 'Sara-Jane Dunn',\n",
              " 'TED-Ed',\n",
              " 'Samuel Cohen',\n",
              " 'Henna-Maria Uusitupa',\n",
              " 'Matt Walker',\n",
              " 'Kaitlyn Sadtler',\n",
              " 'Rebecca Brachman']"
            ]
          },
          "execution_count": 25,
          "metadata": {},
          "output_type": "execute_result"
        }
      ],
      "source": [
        "get_speakers(talk_doc)"
      ]
    },
    {
      "cell_type": "code",
      "execution_count": null,
      "metadata": {
        "id": "KMy8bD4ovovR"
      },
      "outputs": [],
      "source": [
        "#Talk duration\n",
        "def get_time(talk_doc):\n",
        "    talk_time = []\n",
        "    duration_tag = 'thumb__duration'\n",
        "    talk_duration = talk_doc.find_all('span', {'class' : duration_tag })\n",
        "    for duration in talk_duration:\n",
        "        talk_time.append(duration.text)\n",
        "\n",
        "    return talk_time"
      ]
    },
    {
      "cell_type": "code",
      "execution_count": null,
      "metadata": {
        "id": "VRBEy3RvvovR",
        "outputId": "db64203d-2639-4c30-b292-bf38b5d909f9"
      },
      "outputs": [
        {
          "data": {
            "text/plain": [
              "['19:18',\n",
              " '11:04',\n",
              " ' 4:41',\n",
              " ' 9:37',\n",
              " ' 6:21',\n",
              " '13:56',\n",
              " '11:41',\n",
              " '17:36',\n",
              " '10:49',\n",
              " ' 4:39',\n",
              " '14:03',\n",
              " '15:58',\n",
              " '15:35',\n",
              " ' 5:52',\n",
              " '16:02',\n",
              " '16:32',\n",
              " ' 5:10',\n",
              " '15:53',\n",
              " '11:34',\n",
              " '17:24',\n",
              " ' 4:22',\n",
              " '13:04',\n",
              " '15:07',\n",
              " ' 4:18',\n",
              " ' 4:43',\n",
              " '14:29',\n",
              " ' 3:58',\n",
              " '13:29',\n",
              " '43:07',\n",
              " '14:47',\n",
              " ' 5:25',\n",
              " ' 7:53',\n",
              " '10:40',\n",
              " '1h  0m',\n",
              " ' 4:57',\n",
              " ' 5:10']"
            ]
          },
          "execution_count": 27,
          "metadata": {},
          "output_type": "execute_result"
        }
      ],
      "source": [
        "get_time(talk_doc)"
      ]
    },
    {
      "cell_type": "code",
      "execution_count": null,
      "metadata": {
        "id": "0yLT6N0hvovR"
      },
      "outputs": [],
      "source": [
        "#Talk view\n",
        "def get_views(talk_doc):\n",
        "    talk_views = []\n",
        "    views_class = 'meta__val'\n",
        "    views = talk_doc.find_all('span',{'class' : views_class})\n",
        "    for view in views:\n",
        "        talk_views.append(view.text.strip())\n",
        "\n",
        "    return talk_views"
      ]
    },
    {
      "cell_type": "code",
      "execution_count": null,
      "metadata": {
        "id": "spze-vf3vovS",
        "outputId": "e136aa2b-7520-4b9b-d562-b87355509ecd"
      },
      "outputs": [
        {
          "data": {
            "text/plain": [
              "['13M',\n",
              " '9.6M',\n",
              " '9.1M',\n",
              " '8.1M',\n",
              " '5.8M',\n",
              " '5.3M',\n",
              " '5.3M',\n",
              " '5.3M',\n",
              " '4.9M',\n",
              " '4.8M',\n",
              " '4.7M',\n",
              " '4.4M',\n",
              " '4.1M',\n",
              " '4.1M',\n",
              " '4M',\n",
              " '3.6M',\n",
              " '3.5M',\n",
              " '3.4M',\n",
              " '3.3M',\n",
              " '3.1M',\n",
              " '3M',\n",
              " '2.9M',\n",
              " '2.9M',\n",
              " '2.7M',\n",
              " '2.7M',\n",
              " '2.6M',\n",
              " '2.6M',\n",
              " '2.6M',\n",
              " '2.5M',\n",
              " '2.5M',\n",
              " '2.5M',\n",
              " '2.4M',\n",
              " '2.4M',\n",
              " '2.4M',\n",
              " '2.4M',\n",
              " '2.3M']"
            ]
          },
          "execution_count": 29,
          "metadata": {},
          "output_type": "execute_result"
        }
      ],
      "source": [
        "get_views(talk_doc)"
      ]
    },
    {
      "cell_type": "code",
      "execution_count": null,
      "metadata": {
        "id": "qbiVl0aQvovU"
      },
      "outputs": [],
      "source": [
        "#Talks urls\n",
        "def get_urls(talk_doc):\n",
        "    urls = []\n",
        "    a_tags = talk_doc.find_all('a', {'class': 'ga-link', 'data-ga-context': 'talks'})\n",
        "    for a_tag in a_tags:\n",
        "        url = ('https://www.ted.com/' + a_tag['href'])\n",
        "        if url not in urls:\n",
        "            urls.append('https://www.ted.com/' + a_tag['href'])\n",
        "\n",
        "    return urls"
      ]
    },
    {
      "cell_type": "code",
      "execution_count": null,
      "metadata": {
        "id": "DnawTaO-vovU",
        "outputId": "9b493950-7bec-45a5-b300-2baa1f7c5f65"
      },
      "outputs": [
        {
          "data": {
            "text/plain": [
              "['https://www.ted.com//talks/matt_walker_sleep_is_your_superpower',\n",
              " 'https://www.ted.com//talks/sandrine_thuret_you_can_grow_new_brain_cells_here_s_how',\n",
              " 'https://www.ted.com//talks/steven_zheng_how_does_anesthesia_work',\n",
              " 'https://www.ted.com//talks/alexander_tsiaras_conception_to_birth_visualized',\n",
              " 'https://www.ted.com//talks/anees_bahji_is_marijuana_bad_for_your_brain',\n",
              " 'https://www.ted.com//talks/lisa_genova_what_you_can_do_to_prevent_alzheimer_s',\n",
              " 'https://www.ted.com//talks/jeff_iliff_one_more_reason_to_get_a_good_night_s_sleep',\n",
              " 'https://www.ted.com//talks/elizabeth_loftus_how_reliable_is_your_memory',\n",
              " 'https://www.ted.com//talks/jack_andraka_a_promising_test_for_pancreatic_cancer_from_a_teenager',\n",
              " 'https://www.ted.com//talks/krishna_sudhir_what_happens_during_a_heart_attack',\n",
              " 'https://www.ted.com//talks/giulia_enders_the_surprisingly_charming_science_of_your_gut',\n",
              " 'https://www.ted.com//talks/peter_attia_is_the_obesity_crisis_hiding_a_bigger_problem',\n",
              " 'https://www.ted.com//talks/wendy_chung_autism_what_we_know_and_what_we_don_t_know_yet',\n",
              " 'https://www.ted.com//talks/helen_m_farrell_what_is_bipolar_disorder',\n",
              " 'https://www.ted.com//talks/sandeep_jauhar_how_your_emotions_change_the_shape_of_your_heart',\n",
              " 'https://www.ted.com//talks/rick_doblin_the_future_of_psychedelic_assisted_psychotherapy',\n",
              " 'https://www.ted.com//talks/sam_kean_what_happens_when_you_remove_the_hippocampus',\n",
              " 'https://www.ted.com//talks/jennifer_doudna_how_crispr_lets_us_edit_our_dna',\n",
              " 'https://www.ted.com//talks/jocelyne_bloch_the_brain_may_be_able_to_repair_itself_with_help',\n",
              " 'https://www.ted.com//talks/anthony_atala_printing_a_human_kidney',\n",
              " 'https://www.ted.com//talks/emma_bryce_the_power_of_the_placebo_effect',\n",
              " 'https://www.ted.com//talks/lisa_mosconi_how_menopause_affects_the_brain',\n",
              " 'https://www.ted.com//talks/david_casarett_a_doctor_s_case_for_medical_marijuana',\n",
              " 'https://www.ted.com//talks/addison_anderson_the_most_groundbreaking_scientist_you_ve_never_heard_of',\n",
              " 'https://www.ted.com//talks/shohini_ghose_the_genius_of_marie_curie',\n",
              " 'https://www.ted.com//talks/suchitra_krishnan_sarin_what_you_should_know_about_vaping_and_e_cigarettes',\n",
              " 'https://www.ted.com//talks/celine_valery_how_does_your_body_process_medicine',\n",
              " 'https://www.ted.com//talks/ben_goldacre_what_doctors_don_t_know_about_the_drugs_they_prescribe',\n",
              " 'https://www.ted.com//talks/bill_gates_how_the_pandemic_will_shape_the_near_future',\n",
              " 'https://www.ted.com//talks/sara_jane_dunn_the_next_software_revolution_programming_biological_cells',\n",
              " 'https://www.ted.com//talks/ted_ed_the_surprising_effects_of_pregnancy',\n",
              " 'https://www.ted.com//talks/samuel_cohen_alzheimer_s_is_not_normal_aging_and_we_can_cure_it',\n",
              " 'https://www.ted.com//talks/henna_maria_uusitupa_how_the_gut_microbes_you_re_born_with_affect_your_lifelong_health',\n",
              " 'https://www.ted.com//talks/matt_walker_why_sleep_matters_now_more_than_ever',\n",
              " 'https://www.ted.com//talks/kaitlyn_sadtler_how_we_could_teach_our_bodies_to_heal_faster',\n",
              " 'https://www.ted.com//talks/rebecca_brachman_a_new_class_of_drug_that_could_prevent_depression_and_ptsd']"
            ]
          },
          "execution_count": 33,
          "metadata": {},
          "output_type": "execute_result"
        }
      ],
      "source": [
        "get_urls(talk_doc)"
      ]
    },
    {
      "cell_type": "markdown",
      "metadata": {
        "id": "XOr4HewyvovU"
      },
      "source": [
        "## Create CSV Files Using Pandas"
      ]
    },
    {
      "cell_type": "code",
      "execution_count": null,
      "metadata": {
        "id": "oPuAl0-hvovV"
      },
      "outputs": [],
      "source": [
        "#Installing Pandas library\n",
        "!pip install pandas --quiet"
      ]
    },
    {
      "cell_type": "code",
      "execution_count": null,
      "metadata": {
        "id": "9IW6GFaxvovV"
      },
      "outputs": [],
      "source": [
        "#Import Pandas\n",
        "import pandas as pd"
      ]
    },
    {
      "cell_type": "code",
      "execution_count": null,
      "metadata": {
        "id": "xHF9n2eZvovV"
      },
      "outputs": [],
      "source": [
        "#Create a dictionary\n",
        "talks_dict = {\n",
        "    'Title' : get_title(talk_doc),\n",
        "    'Speaker' : get_speakers(talk_doc),\n",
        "    'Duration' : get_time(talk_doc),\n",
        "    'Views' : get_views(talk_doc),\n",
        "    'URLs' : get_urls(talk_doc),}"
      ]
    },
    {
      "cell_type": "code",
      "execution_count": null,
      "metadata": {
        "id": "ncxxTumdvovV",
        "outputId": "cdadb7d4-e1ef-4150-8902-4396d9b35a22"
      },
      "outputs": [
        {
          "data": {
            "text/plain": [
              "{'Title': ['Sleep is your superpower',\n",
              "  \"You can grow new brain cells. Here's how\",\n",
              "  'How does anesthesia work?',\n",
              "  'Conception to birth — visualized',\n",
              "  'Is marijuana bad for your brain?',\n",
              "  \"What you can do to prevent Alzheimer's\",\n",
              "  \"One more reason to get a good night's sleep\",\n",
              "  'How reliable is your memory?',\n",
              "  'A promising test for pancreatic cancer ... from a teenager',\n",
              "  'What happens during a heart attack?',\n",
              "  'The surprisingly charming science of your gut',\n",
              "  'Is the obesity crisis hiding a bigger problem?',\n",
              "  \"Autism — what we know (and what we don't know yet)\",\n",
              "  'What is bipolar disorder?',\n",
              "  'How your emotions change the shape of your heart',\n",
              "  'The future of psychedelic-assisted psychotherapy',\n",
              "  'What happens when you remove the hippocampus?',\n",
              "  'How CRISPR lets us edit our DNA',\n",
              "  'The brain may be able to repair itself — with help',\n",
              "  'Printing a human kidney',\n",
              "  'The power of the placebo effect',\n",
              "  'How menopause affects the brain',\n",
              "  \"A doctor's case for medical marijuana\",\n",
              "  \"The most groundbreaking scientist you've never heard of\",\n",
              "  'The genius of Marie Curie',\n",
              "  'What you should know about vaping and e-cigarettes',\n",
              "  'How does your body process medicine?',\n",
              "  \"What doctors don't know about the drugs they prescribe\",\n",
              "  'How the pandemic will shape the near future',\n",
              "  'The next software revolution: programming biological cells',\n",
              "  'The surprising effects of pregnancy',\n",
              "  \"Alzheimer's is not normal aging — and we can cure it\",\n",
              "  \"How the gut microbes you're born with affect your lifelong health\",\n",
              "  'Why sleep matters now more than ever',\n",
              "  'How we could teach our bodies to heal faster',\n",
              "  'A new class of drug that could prevent depression and PTSD'],\n",
              " 'Speaker': ['Matt Walker',\n",
              "  'Sandrine Thuret',\n",
              "  'Steven Zheng',\n",
              "  'Alexander Tsiaras',\n",
              "  'Anees Bahji',\n",
              "  'Lisa Genova',\n",
              "  'Jeff Iliff',\n",
              "  'Elizabeth Loftus',\n",
              "  'Jack Andraka',\n",
              "  'Krishna Sudhir',\n",
              "  'Giulia Enders',\n",
              "  'Peter Attia',\n",
              "  'Wendy Chung',\n",
              "  'Helen M. Farrell',\n",
              "  'Sandeep Jauhar',\n",
              "  'Rick Doblin',\n",
              "  'Sam Kean',\n",
              "  'Jennifer Doudna',\n",
              "  'Jocelyne Bloch',\n",
              "  'Anthony Atala',\n",
              "  'Emma Bryce',\n",
              "  'Lisa Mosconi',\n",
              "  'David Casarett',\n",
              "  'Addison Anderson',\n",
              "  'Shohini Ghose',\n",
              "  'Suchitra Krishnan-Sarin',\n",
              "  'Céline Valéry',\n",
              "  'Ben Goldacre',\n",
              "  'Bill Gates',\n",
              "  'Sara-Jane Dunn',\n",
              "  'TED-Ed',\n",
              "  'Samuel Cohen',\n",
              "  'Henna-Maria Uusitupa',\n",
              "  'Matt Walker',\n",
              "  'Kaitlyn Sadtler',\n",
              "  'Rebecca Brachman'],\n",
              " 'Duration': ['19:18',\n",
              "  '11:04',\n",
              "  ' 4:41',\n",
              "  ' 9:37',\n",
              "  ' 6:21',\n",
              "  '13:56',\n",
              "  '11:41',\n",
              "  '17:36',\n",
              "  '10:49',\n",
              "  ' 4:39',\n",
              "  '14:03',\n",
              "  '15:58',\n",
              "  '15:35',\n",
              "  ' 5:52',\n",
              "  '16:02',\n",
              "  '16:32',\n",
              "  ' 5:10',\n",
              "  '15:53',\n",
              "  '11:34',\n",
              "  '17:24',\n",
              "  ' 4:22',\n",
              "  '13:04',\n",
              "  '15:07',\n",
              "  ' 4:18',\n",
              "  ' 4:43',\n",
              "  '14:29',\n",
              "  ' 3:58',\n",
              "  '13:29',\n",
              "  '43:07',\n",
              "  '14:47',\n",
              "  ' 5:25',\n",
              "  ' 7:53',\n",
              "  '10:40',\n",
              "  '1h  0m',\n",
              "  ' 4:57',\n",
              "  ' 5:10'],\n",
              " 'Views': ['13M',\n",
              "  '9.6M',\n",
              "  '9.1M',\n",
              "  '8.1M',\n",
              "  '5.8M',\n",
              "  '5.3M',\n",
              "  '5.3M',\n",
              "  '5.3M',\n",
              "  '4.9M',\n",
              "  '4.8M',\n",
              "  '4.7M',\n",
              "  '4.4M',\n",
              "  '4.1M',\n",
              "  '4.1M',\n",
              "  '4M',\n",
              "  '3.6M',\n",
              "  '3.5M',\n",
              "  '3.4M',\n",
              "  '3.3M',\n",
              "  '3.1M',\n",
              "  '3M',\n",
              "  '2.9M',\n",
              "  '2.9M',\n",
              "  '2.7M',\n",
              "  '2.7M',\n",
              "  '2.6M',\n",
              "  '2.6M',\n",
              "  '2.6M',\n",
              "  '2.5M',\n",
              "  '2.5M',\n",
              "  '2.5M',\n",
              "  '2.4M',\n",
              "  '2.4M',\n",
              "  '2.4M',\n",
              "  '2.4M',\n",
              "  '2.3M'],\n",
              " 'URLs': ['https://www.ted.com//talks/matt_walker_sleep_is_your_superpower',\n",
              "  'https://www.ted.com//talks/sandrine_thuret_you_can_grow_new_brain_cells_here_s_how',\n",
              "  'https://www.ted.com//talks/steven_zheng_how_does_anesthesia_work',\n",
              "  'https://www.ted.com//talks/alexander_tsiaras_conception_to_birth_visualized',\n",
              "  'https://www.ted.com//talks/anees_bahji_is_marijuana_bad_for_your_brain',\n",
              "  'https://www.ted.com//talks/lisa_genova_what_you_can_do_to_prevent_alzheimer_s',\n",
              "  'https://www.ted.com//talks/jeff_iliff_one_more_reason_to_get_a_good_night_s_sleep',\n",
              "  'https://www.ted.com//talks/elizabeth_loftus_how_reliable_is_your_memory',\n",
              "  'https://www.ted.com//talks/jack_andraka_a_promising_test_for_pancreatic_cancer_from_a_teenager',\n",
              "  'https://www.ted.com//talks/krishna_sudhir_what_happens_during_a_heart_attack',\n",
              "  'https://www.ted.com//talks/giulia_enders_the_surprisingly_charming_science_of_your_gut',\n",
              "  'https://www.ted.com//talks/peter_attia_is_the_obesity_crisis_hiding_a_bigger_problem',\n",
              "  'https://www.ted.com//talks/wendy_chung_autism_what_we_know_and_what_we_don_t_know_yet',\n",
              "  'https://www.ted.com//talks/helen_m_farrell_what_is_bipolar_disorder',\n",
              "  'https://www.ted.com//talks/sandeep_jauhar_how_your_emotions_change_the_shape_of_your_heart',\n",
              "  'https://www.ted.com//talks/rick_doblin_the_future_of_psychedelic_assisted_psychotherapy',\n",
              "  'https://www.ted.com//talks/sam_kean_what_happens_when_you_remove_the_hippocampus',\n",
              "  'https://www.ted.com//talks/jennifer_doudna_how_crispr_lets_us_edit_our_dna',\n",
              "  'https://www.ted.com//talks/jocelyne_bloch_the_brain_may_be_able_to_repair_itself_with_help',\n",
              "  'https://www.ted.com//talks/anthony_atala_printing_a_human_kidney',\n",
              "  'https://www.ted.com//talks/emma_bryce_the_power_of_the_placebo_effect',\n",
              "  'https://www.ted.com//talks/lisa_mosconi_how_menopause_affects_the_brain',\n",
              "  'https://www.ted.com//talks/david_casarett_a_doctor_s_case_for_medical_marijuana',\n",
              "  'https://www.ted.com//talks/addison_anderson_the_most_groundbreaking_scientist_you_ve_never_heard_of',\n",
              "  'https://www.ted.com//talks/shohini_ghose_the_genius_of_marie_curie',\n",
              "  'https://www.ted.com//talks/suchitra_krishnan_sarin_what_you_should_know_about_vaping_and_e_cigarettes',\n",
              "  'https://www.ted.com//talks/celine_valery_how_does_your_body_process_medicine',\n",
              "  'https://www.ted.com//talks/ben_goldacre_what_doctors_don_t_know_about_the_drugs_they_prescribe',\n",
              "  'https://www.ted.com//talks/bill_gates_how_the_pandemic_will_shape_the_near_future',\n",
              "  'https://www.ted.com//talks/sara_jane_dunn_the_next_software_revolution_programming_biological_cells',\n",
              "  'https://www.ted.com//talks/ted_ed_the_surprising_effects_of_pregnancy',\n",
              "  'https://www.ted.com//talks/samuel_cohen_alzheimer_s_is_not_normal_aging_and_we_can_cure_it',\n",
              "  'https://www.ted.com//talks/henna_maria_uusitupa_how_the_gut_microbes_you_re_born_with_affect_your_lifelong_health',\n",
              "  'https://www.ted.com//talks/matt_walker_why_sleep_matters_now_more_than_ever',\n",
              "  'https://www.ted.com//talks/kaitlyn_sadtler_how_we_could_teach_our_bodies_to_heal_faster',\n",
              "  'https://www.ted.com//talks/rebecca_brachman_a_new_class_of_drug_that_could_prevent_depression_and_ptsd']}"
            ]
          },
          "execution_count": 37,
          "metadata": {},
          "output_type": "execute_result"
        }
      ],
      "source": [
        "talks_dict"
      ]
    },
    {
      "cell_type": "code",
      "execution_count": null,
      "metadata": {
        "id": "BuqBWIzwvovW"
      },
      "outputs": [],
      "source": [
        "#Create dataframe\n",
        "talks_pd = pd.DataFrame(talks_dict)"
      ]
    },
    {
      "cell_type": "code",
      "execution_count": null,
      "metadata": {
        "id": "s9HtFT6SvovW",
        "outputId": "6bbbe0e1-b142-4a52-b08c-0b3b51502af5"
      },
      "outputs": [
        {
          "data": {
            "text/html": [
              "<div>\n",
              "<style scoped>\n",
              "    .dataframe tbody tr th:only-of-type {\n",
              "        vertical-align: middle;\n",
              "    }\n",
              "\n",
              "    .dataframe tbody tr th {\n",
              "        vertical-align: top;\n",
              "    }\n",
              "\n",
              "    .dataframe thead th {\n",
              "        text-align: right;\n",
              "    }\n",
              "</style>\n",
              "<table border=\"1\" class=\"dataframe\">\n",
              "  <thead>\n",
              "    <tr style=\"text-align: right;\">\n",
              "      <th></th>\n",
              "      <th>Title</th>\n",
              "      <th>Speaker</th>\n",
              "      <th>Duration</th>\n",
              "      <th>Views</th>\n",
              "      <th>URLs</th>\n",
              "    </tr>\n",
              "  </thead>\n",
              "  <tbody>\n",
              "    <tr>\n",
              "      <th>0</th>\n",
              "      <td>Sleep is your superpower</td>\n",
              "      <td>Matt Walker</td>\n",
              "      <td>19:18</td>\n",
              "      <td>13M</td>\n",
              "      <td>https://www.ted.com//talks/matt_walker_sleep_i...</td>\n",
              "    </tr>\n",
              "    <tr>\n",
              "      <th>1</th>\n",
              "      <td>You can grow new brain cells. Here's how</td>\n",
              "      <td>Sandrine Thuret</td>\n",
              "      <td>11:04</td>\n",
              "      <td>9.6M</td>\n",
              "      <td>https://www.ted.com//talks/sandrine_thuret_you...</td>\n",
              "    </tr>\n",
              "    <tr>\n",
              "      <th>2</th>\n",
              "      <td>How does anesthesia work?</td>\n",
              "      <td>Steven Zheng</td>\n",
              "      <td>4:41</td>\n",
              "      <td>9.1M</td>\n",
              "      <td>https://www.ted.com//talks/steven_zheng_how_do...</td>\n",
              "    </tr>\n",
              "    <tr>\n",
              "      <th>3</th>\n",
              "      <td>Conception to birth — visualized</td>\n",
              "      <td>Alexander Tsiaras</td>\n",
              "      <td>9:37</td>\n",
              "      <td>8.1M</td>\n",
              "      <td>https://www.ted.com//talks/alexander_tsiaras_c...</td>\n",
              "    </tr>\n",
              "    <tr>\n",
              "      <th>4</th>\n",
              "      <td>Is marijuana bad for your brain?</td>\n",
              "      <td>Anees Bahji</td>\n",
              "      <td>6:21</td>\n",
              "      <td>5.8M</td>\n",
              "      <td>https://www.ted.com//talks/anees_bahji_is_mari...</td>\n",
              "    </tr>\n",
              "    <tr>\n",
              "      <th>5</th>\n",
              "      <td>What you can do to prevent Alzheimer's</td>\n",
              "      <td>Lisa Genova</td>\n",
              "      <td>13:56</td>\n",
              "      <td>5.3M</td>\n",
              "      <td>https://www.ted.com//talks/lisa_genova_what_yo...</td>\n",
              "    </tr>\n",
              "    <tr>\n",
              "      <th>6</th>\n",
              "      <td>One more reason to get a good night's sleep</td>\n",
              "      <td>Jeff Iliff</td>\n",
              "      <td>11:41</td>\n",
              "      <td>5.3M</td>\n",
              "      <td>https://www.ted.com//talks/jeff_iliff_one_more...</td>\n",
              "    </tr>\n",
              "    <tr>\n",
              "      <th>7</th>\n",
              "      <td>How reliable is your memory?</td>\n",
              "      <td>Elizabeth Loftus</td>\n",
              "      <td>17:36</td>\n",
              "      <td>5.3M</td>\n",
              "      <td>https://www.ted.com//talks/elizabeth_loftus_ho...</td>\n",
              "    </tr>\n",
              "    <tr>\n",
              "      <th>8</th>\n",
              "      <td>A promising test for pancreatic cancer ... fro...</td>\n",
              "      <td>Jack Andraka</td>\n",
              "      <td>10:49</td>\n",
              "      <td>4.9M</td>\n",
              "      <td>https://www.ted.com//talks/jack_andraka_a_prom...</td>\n",
              "    </tr>\n",
              "    <tr>\n",
              "      <th>9</th>\n",
              "      <td>What happens during a heart attack?</td>\n",
              "      <td>Krishna Sudhir</td>\n",
              "      <td>4:39</td>\n",
              "      <td>4.8M</td>\n",
              "      <td>https://www.ted.com//talks/krishna_sudhir_what...</td>\n",
              "    </tr>\n",
              "    <tr>\n",
              "      <th>10</th>\n",
              "      <td>The surprisingly charming science of your gut</td>\n",
              "      <td>Giulia Enders</td>\n",
              "      <td>14:03</td>\n",
              "      <td>4.7M</td>\n",
              "      <td>https://www.ted.com//talks/giulia_enders_the_s...</td>\n",
              "    </tr>\n",
              "    <tr>\n",
              "      <th>11</th>\n",
              "      <td>Is the obesity crisis hiding a bigger problem?</td>\n",
              "      <td>Peter Attia</td>\n",
              "      <td>15:58</td>\n",
              "      <td>4.4M</td>\n",
              "      <td>https://www.ted.com//talks/peter_attia_is_the_...</td>\n",
              "    </tr>\n",
              "    <tr>\n",
              "      <th>12</th>\n",
              "      <td>Autism — what we know (and what we don't know ...</td>\n",
              "      <td>Wendy Chung</td>\n",
              "      <td>15:35</td>\n",
              "      <td>4.1M</td>\n",
              "      <td>https://www.ted.com//talks/wendy_chung_autism_...</td>\n",
              "    </tr>\n",
              "    <tr>\n",
              "      <th>13</th>\n",
              "      <td>What is bipolar disorder?</td>\n",
              "      <td>Helen M. Farrell</td>\n",
              "      <td>5:52</td>\n",
              "      <td>4.1M</td>\n",
              "      <td>https://www.ted.com//talks/helen_m_farrell_wha...</td>\n",
              "    </tr>\n",
              "    <tr>\n",
              "      <th>14</th>\n",
              "      <td>How your emotions change the shape of your heart</td>\n",
              "      <td>Sandeep Jauhar</td>\n",
              "      <td>16:02</td>\n",
              "      <td>4M</td>\n",
              "      <td>https://www.ted.com//talks/sandeep_jauhar_how_...</td>\n",
              "    </tr>\n",
              "    <tr>\n",
              "      <th>15</th>\n",
              "      <td>The future of psychedelic-assisted psychotherapy</td>\n",
              "      <td>Rick Doblin</td>\n",
              "      <td>16:32</td>\n",
              "      <td>3.6M</td>\n",
              "      <td>https://www.ted.com//talks/rick_doblin_the_fut...</td>\n",
              "    </tr>\n",
              "    <tr>\n",
              "      <th>16</th>\n",
              "      <td>What happens when you remove the hippocampus?</td>\n",
              "      <td>Sam Kean</td>\n",
              "      <td>5:10</td>\n",
              "      <td>3.5M</td>\n",
              "      <td>https://www.ted.com//talks/sam_kean_what_happe...</td>\n",
              "    </tr>\n",
              "    <tr>\n",
              "      <th>17</th>\n",
              "      <td>How CRISPR lets us edit our DNA</td>\n",
              "      <td>Jennifer Doudna</td>\n",
              "      <td>15:53</td>\n",
              "      <td>3.4M</td>\n",
              "      <td>https://www.ted.com//talks/jennifer_doudna_how...</td>\n",
              "    </tr>\n",
              "    <tr>\n",
              "      <th>18</th>\n",
              "      <td>The brain may be able to repair itself — with ...</td>\n",
              "      <td>Jocelyne Bloch</td>\n",
              "      <td>11:34</td>\n",
              "      <td>3.3M</td>\n",
              "      <td>https://www.ted.com//talks/jocelyne_bloch_the_...</td>\n",
              "    </tr>\n",
              "    <tr>\n",
              "      <th>19</th>\n",
              "      <td>Printing a human kidney</td>\n",
              "      <td>Anthony Atala</td>\n",
              "      <td>17:24</td>\n",
              "      <td>3.1M</td>\n",
              "      <td>https://www.ted.com//talks/anthony_atala_print...</td>\n",
              "    </tr>\n",
              "    <tr>\n",
              "      <th>20</th>\n",
              "      <td>The power of the placebo effect</td>\n",
              "      <td>Emma Bryce</td>\n",
              "      <td>4:22</td>\n",
              "      <td>3M</td>\n",
              "      <td>https://www.ted.com//talks/emma_bryce_the_powe...</td>\n",
              "    </tr>\n",
              "    <tr>\n",
              "      <th>21</th>\n",
              "      <td>How menopause affects the brain</td>\n",
              "      <td>Lisa Mosconi</td>\n",
              "      <td>13:04</td>\n",
              "      <td>2.9M</td>\n",
              "      <td>https://www.ted.com//talks/lisa_mosconi_how_me...</td>\n",
              "    </tr>\n",
              "    <tr>\n",
              "      <th>22</th>\n",
              "      <td>A doctor's case for medical marijuana</td>\n",
              "      <td>David Casarett</td>\n",
              "      <td>15:07</td>\n",
              "      <td>2.9M</td>\n",
              "      <td>https://www.ted.com//talks/david_casarett_a_do...</td>\n",
              "    </tr>\n",
              "    <tr>\n",
              "      <th>23</th>\n",
              "      <td>The most groundbreaking scientist you've never...</td>\n",
              "      <td>Addison Anderson</td>\n",
              "      <td>4:18</td>\n",
              "      <td>2.7M</td>\n",
              "      <td>https://www.ted.com//talks/addison_anderson_th...</td>\n",
              "    </tr>\n",
              "    <tr>\n",
              "      <th>24</th>\n",
              "      <td>The genius of Marie Curie</td>\n",
              "      <td>Shohini Ghose</td>\n",
              "      <td>4:43</td>\n",
              "      <td>2.7M</td>\n",
              "      <td>https://www.ted.com//talks/shohini_ghose_the_g...</td>\n",
              "    </tr>\n",
              "    <tr>\n",
              "      <th>25</th>\n",
              "      <td>What you should know about vaping and e-cigare...</td>\n",
              "      <td>Suchitra Krishnan-Sarin</td>\n",
              "      <td>14:29</td>\n",
              "      <td>2.6M</td>\n",
              "      <td>https://www.ted.com//talks/suchitra_krishnan_s...</td>\n",
              "    </tr>\n",
              "    <tr>\n",
              "      <th>26</th>\n",
              "      <td>How does your body process medicine?</td>\n",
              "      <td>Céline Valéry</td>\n",
              "      <td>3:58</td>\n",
              "      <td>2.6M</td>\n",
              "      <td>https://www.ted.com//talks/celine_valery_how_d...</td>\n",
              "    </tr>\n",
              "    <tr>\n",
              "      <th>27</th>\n",
              "      <td>What doctors don't know about the drugs they p...</td>\n",
              "      <td>Ben Goldacre</td>\n",
              "      <td>13:29</td>\n",
              "      <td>2.6M</td>\n",
              "      <td>https://www.ted.com//talks/ben_goldacre_what_d...</td>\n",
              "    </tr>\n",
              "    <tr>\n",
              "      <th>28</th>\n",
              "      <td>How the pandemic will shape the near future</td>\n",
              "      <td>Bill Gates</td>\n",
              "      <td>43:07</td>\n",
              "      <td>2.5M</td>\n",
              "      <td>https://www.ted.com//talks/bill_gates_how_the_...</td>\n",
              "    </tr>\n",
              "    <tr>\n",
              "      <th>29</th>\n",
              "      <td>The next software revolution: programming biol...</td>\n",
              "      <td>Sara-Jane Dunn</td>\n",
              "      <td>14:47</td>\n",
              "      <td>2.5M</td>\n",
              "      <td>https://www.ted.com//talks/sara_jane_dunn_the_...</td>\n",
              "    </tr>\n",
              "    <tr>\n",
              "      <th>30</th>\n",
              "      <td>The surprising effects of pregnancy</td>\n",
              "      <td>TED-Ed</td>\n",
              "      <td>5:25</td>\n",
              "      <td>2.5M</td>\n",
              "      <td>https://www.ted.com//talks/ted_ed_the_surprisi...</td>\n",
              "    </tr>\n",
              "    <tr>\n",
              "      <th>31</th>\n",
              "      <td>Alzheimer's is not normal aging — and we can c...</td>\n",
              "      <td>Samuel Cohen</td>\n",
              "      <td>7:53</td>\n",
              "      <td>2.4M</td>\n",
              "      <td>https://www.ted.com//talks/samuel_cohen_alzhei...</td>\n",
              "    </tr>\n",
              "    <tr>\n",
              "      <th>32</th>\n",
              "      <td>How the gut microbes you're born with affect y...</td>\n",
              "      <td>Henna-Maria Uusitupa</td>\n",
              "      <td>10:40</td>\n",
              "      <td>2.4M</td>\n",
              "      <td>https://www.ted.com//talks/henna_maria_uusitup...</td>\n",
              "    </tr>\n",
              "    <tr>\n",
              "      <th>33</th>\n",
              "      <td>Why sleep matters now more than ever</td>\n",
              "      <td>Matt Walker</td>\n",
              "      <td>1h  0m</td>\n",
              "      <td>2.4M</td>\n",
              "      <td>https://www.ted.com//talks/matt_walker_why_sle...</td>\n",
              "    </tr>\n",
              "    <tr>\n",
              "      <th>34</th>\n",
              "      <td>How we could teach our bodies to heal faster</td>\n",
              "      <td>Kaitlyn Sadtler</td>\n",
              "      <td>4:57</td>\n",
              "      <td>2.4M</td>\n",
              "      <td>https://www.ted.com//talks/kaitlyn_sadtler_how...</td>\n",
              "    </tr>\n",
              "    <tr>\n",
              "      <th>35</th>\n",
              "      <td>A new class of drug that could prevent depress...</td>\n",
              "      <td>Rebecca Brachman</td>\n",
              "      <td>5:10</td>\n",
              "      <td>2.3M</td>\n",
              "      <td>https://www.ted.com//talks/rebecca_brachman_a_...</td>\n",
              "    </tr>\n",
              "  </tbody>\n",
              "</table>\n",
              "</div>"
            ],
            "text/plain": [
              "                                                Title  \\\n",
              "0                            Sleep is your superpower   \n",
              "1            You can grow new brain cells. Here's how   \n",
              "2                           How does anesthesia work?   \n",
              "3                    Conception to birth — visualized   \n",
              "4                    Is marijuana bad for your brain?   \n",
              "5              What you can do to prevent Alzheimer's   \n",
              "6         One more reason to get a good night's sleep   \n",
              "7                        How reliable is your memory?   \n",
              "8   A promising test for pancreatic cancer ... fro...   \n",
              "9                 What happens during a heart attack?   \n",
              "10      The surprisingly charming science of your gut   \n",
              "11     Is the obesity crisis hiding a bigger problem?   \n",
              "12  Autism — what we know (and what we don't know ...   \n",
              "13                          What is bipolar disorder?   \n",
              "14   How your emotions change the shape of your heart   \n",
              "15   The future of psychedelic-assisted psychotherapy   \n",
              "16      What happens when you remove the hippocampus?   \n",
              "17                    How CRISPR lets us edit our DNA   \n",
              "18  The brain may be able to repair itself — with ...   \n",
              "19                            Printing a human kidney   \n",
              "20                    The power of the placebo effect   \n",
              "21                    How menopause affects the brain   \n",
              "22              A doctor's case for medical marijuana   \n",
              "23  The most groundbreaking scientist you've never...   \n",
              "24                          The genius of Marie Curie   \n",
              "25  What you should know about vaping and e-cigare...   \n",
              "26               How does your body process medicine?   \n",
              "27  What doctors don't know about the drugs they p...   \n",
              "28        How the pandemic will shape the near future   \n",
              "29  The next software revolution: programming biol...   \n",
              "30                The surprising effects of pregnancy   \n",
              "31  Alzheimer's is not normal aging — and we can c...   \n",
              "32  How the gut microbes you're born with affect y...   \n",
              "33               Why sleep matters now more than ever   \n",
              "34       How we could teach our bodies to heal faster   \n",
              "35  A new class of drug that could prevent depress...   \n",
              "\n",
              "                    Speaker Duration Views  \\\n",
              "0               Matt Walker    19:18   13M   \n",
              "1           Sandrine Thuret    11:04  9.6M   \n",
              "2              Steven Zheng     4:41  9.1M   \n",
              "3         Alexander Tsiaras     9:37  8.1M   \n",
              "4               Anees Bahji     6:21  5.8M   \n",
              "5               Lisa Genova    13:56  5.3M   \n",
              "6                Jeff Iliff    11:41  5.3M   \n",
              "7          Elizabeth Loftus    17:36  5.3M   \n",
              "8              Jack Andraka    10:49  4.9M   \n",
              "9            Krishna Sudhir     4:39  4.8M   \n",
              "10            Giulia Enders    14:03  4.7M   \n",
              "11              Peter Attia    15:58  4.4M   \n",
              "12              Wendy Chung    15:35  4.1M   \n",
              "13         Helen M. Farrell     5:52  4.1M   \n",
              "14           Sandeep Jauhar    16:02    4M   \n",
              "15              Rick Doblin    16:32  3.6M   \n",
              "16                 Sam Kean     5:10  3.5M   \n",
              "17          Jennifer Doudna    15:53  3.4M   \n",
              "18           Jocelyne Bloch    11:34  3.3M   \n",
              "19            Anthony Atala    17:24  3.1M   \n",
              "20               Emma Bryce     4:22    3M   \n",
              "21             Lisa Mosconi    13:04  2.9M   \n",
              "22           David Casarett    15:07  2.9M   \n",
              "23         Addison Anderson     4:18  2.7M   \n",
              "24            Shohini Ghose     4:43  2.7M   \n",
              "25  Suchitra Krishnan-Sarin    14:29  2.6M   \n",
              "26            Céline Valéry     3:58  2.6M   \n",
              "27             Ben Goldacre    13:29  2.6M   \n",
              "28               Bill Gates    43:07  2.5M   \n",
              "29           Sara-Jane Dunn    14:47  2.5M   \n",
              "30                   TED-Ed     5:25  2.5M   \n",
              "31             Samuel Cohen     7:53  2.4M   \n",
              "32     Henna-Maria Uusitupa    10:40  2.4M   \n",
              "33              Matt Walker   1h  0m  2.4M   \n",
              "34          Kaitlyn Sadtler     4:57  2.4M   \n",
              "35         Rebecca Brachman     5:10  2.3M   \n",
              "\n",
              "                                                 URLs  \n",
              "0   https://www.ted.com//talks/matt_walker_sleep_i...  \n",
              "1   https://www.ted.com//talks/sandrine_thuret_you...  \n",
              "2   https://www.ted.com//talks/steven_zheng_how_do...  \n",
              "3   https://www.ted.com//talks/alexander_tsiaras_c...  \n",
              "4   https://www.ted.com//talks/anees_bahji_is_mari...  \n",
              "5   https://www.ted.com//talks/lisa_genova_what_yo...  \n",
              "6   https://www.ted.com//talks/jeff_iliff_one_more...  \n",
              "7   https://www.ted.com//talks/elizabeth_loftus_ho...  \n",
              "8   https://www.ted.com//talks/jack_andraka_a_prom...  \n",
              "9   https://www.ted.com//talks/krishna_sudhir_what...  \n",
              "10  https://www.ted.com//talks/giulia_enders_the_s...  \n",
              "11  https://www.ted.com//talks/peter_attia_is_the_...  \n",
              "12  https://www.ted.com//talks/wendy_chung_autism_...  \n",
              "13  https://www.ted.com//talks/helen_m_farrell_wha...  \n",
              "14  https://www.ted.com//talks/sandeep_jauhar_how_...  \n",
              "15  https://www.ted.com//talks/rick_doblin_the_fut...  \n",
              "16  https://www.ted.com//talks/sam_kean_what_happe...  \n",
              "17  https://www.ted.com//talks/jennifer_doudna_how...  \n",
              "18  https://www.ted.com//talks/jocelyne_bloch_the_...  \n",
              "19  https://www.ted.com//talks/anthony_atala_print...  \n",
              "20  https://www.ted.com//talks/emma_bryce_the_powe...  \n",
              "21  https://www.ted.com//talks/lisa_mosconi_how_me...  \n",
              "22  https://www.ted.com//talks/david_casarett_a_do...  \n",
              "23  https://www.ted.com//talks/addison_anderson_th...  \n",
              "24  https://www.ted.com//talks/shohini_ghose_the_g...  \n",
              "25  https://www.ted.com//talks/suchitra_krishnan_s...  \n",
              "26  https://www.ted.com//talks/celine_valery_how_d...  \n",
              "27  https://www.ted.com//talks/ben_goldacre_what_d...  \n",
              "28  https://www.ted.com//talks/bill_gates_how_the_...  \n",
              "29  https://www.ted.com//talks/sara_jane_dunn_the_...  \n",
              "30  https://www.ted.com//talks/ted_ed_the_surprisi...  \n",
              "31  https://www.ted.com//talks/samuel_cohen_alzhei...  \n",
              "32  https://www.ted.com//talks/henna_maria_uusitup...  \n",
              "33  https://www.ted.com//talks/matt_walker_why_sle...  \n",
              "34  https://www.ted.com//talks/kaitlyn_sadtler_how...  \n",
              "35  https://www.ted.com//talks/rebecca_brachman_a_...  "
            ]
          },
          "execution_count": 40,
          "metadata": {},
          "output_type": "execute_result"
        }
      ],
      "source": [
        "talks_pd"
      ]
    },
    {
      "cell_type": "markdown",
      "metadata": {
        "id": "7UEQwEnrvovW"
      },
      "source": [
        "We have now extracted information from the first page of the webpage."
      ]
    },
    {
      "cell_type": "code",
      "execution_count": null,
      "metadata": {
        "id": "QZBQcVR2vovW"
      },
      "outputs": [],
      "source": [
        "#Save in a csv file\n",
        "talks_pd.to_csv('talks.csv', index = None)"
      ]
    }
  ],
  "metadata": {
    "kernelspec": {
      "display_name": "Python 3",
      "language": "python",
      "name": "python3"
    },
    "language_info": {
      "codemirror_mode": {
        "name": "ipython",
        "version": 3
      },
      "file_extension": ".py",
      "mimetype": "text/x-python",
      "name": "python",
      "nbconvert_exporter": "python",
      "pygments_lexer": "ipython3",
      "version": "3.8.6"
    },
    "colab": {
      "provenance": []
    }
  },
  "nbformat": 4,
  "nbformat_minor": 0
}